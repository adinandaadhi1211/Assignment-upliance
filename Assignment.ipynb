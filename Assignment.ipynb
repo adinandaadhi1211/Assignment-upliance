{
 "cells": [
  {
   "cell_type": "markdown",
   "id": "94f95c90",
   "metadata": {},
   "source": [
    "# Assignment for Data Analytics Intern"
   ]
  },
  {
   "cell_type": "code",
   "execution_count": 92,
   "id": "f60c928b",
   "metadata": {},
   "outputs": [],
   "source": [
    "# Importing necessary library\n",
    "import pandas as pd\n",
    "import matplotlib.pyplot as plt\n",
    "\n",
    "# Ignoring warnings\n",
    "import warnings\n",
    "warnings.filterwarnings('ignore')"
   ]
  },
  {
   "cell_type": "code",
   "execution_count": 47,
   "id": "cd9551fa",
   "metadata": {},
   "outputs": [],
   "source": [
    "# Loading dataset\n",
    "file_path = '/Users/adina/Downloads/Data Analyst Intern Assignment - Excel.xlsx'\n",
    "user_details = pd.read_excel(file_path, sheet_name='UserDetails.csv')\n",
    "cooking_sessions = pd.read_excel(file_path, sheet_name='CookingSessions.csv')\n",
    "order_details = pd.read_excel(file_path, sheet_name='OrderDetails.csv')"
   ]
  },
  {
   "cell_type": "code",
   "execution_count": 48,
   "id": "61a9a905",
   "metadata": {},
   "outputs": [
    {
     "data": {
      "text/html": [
       "<div>\n",
       "<style scoped>\n",
       "    .dataframe tbody tr th:only-of-type {\n",
       "        vertical-align: middle;\n",
       "    }\n",
       "\n",
       "    .dataframe tbody tr th {\n",
       "        vertical-align: top;\n",
       "    }\n",
       "\n",
       "    .dataframe thead th {\n",
       "        text-align: right;\n",
       "    }\n",
       "</style>\n",
       "<table border=\"1\" class=\"dataframe\">\n",
       "  <thead>\n",
       "    <tr style=\"text-align: right;\">\n",
       "      <th></th>\n",
       "      <th>User ID</th>\n",
       "      <th>User Name</th>\n",
       "      <th>Age</th>\n",
       "      <th>Location</th>\n",
       "      <th>Registration Date</th>\n",
       "      <th>Phone</th>\n",
       "      <th>Email</th>\n",
       "      <th>Favorite Meal</th>\n",
       "      <th>Total Orders</th>\n",
       "    </tr>\n",
       "  </thead>\n",
       "  <tbody>\n",
       "    <tr>\n",
       "      <th>0</th>\n",
       "      <td>U001</td>\n",
       "      <td>Alice Johnson</td>\n",
       "      <td>28</td>\n",
       "      <td>New York</td>\n",
       "      <td>2023-01-15</td>\n",
       "      <td>123-456-7890</td>\n",
       "      <td>alice@email.com</td>\n",
       "      <td>Dinner</td>\n",
       "      <td>12</td>\n",
       "    </tr>\n",
       "    <tr>\n",
       "      <th>1</th>\n",
       "      <td>U002</td>\n",
       "      <td>Bob Smith</td>\n",
       "      <td>35</td>\n",
       "      <td>Los Angeles</td>\n",
       "      <td>2023-02-20</td>\n",
       "      <td>987-654-3210</td>\n",
       "      <td>bob@email.com</td>\n",
       "      <td>Lunch</td>\n",
       "      <td>8</td>\n",
       "    </tr>\n",
       "    <tr>\n",
       "      <th>2</th>\n",
       "      <td>U003</td>\n",
       "      <td>Charlie Lee</td>\n",
       "      <td>42</td>\n",
       "      <td>Chicago</td>\n",
       "      <td>2023-03-10</td>\n",
       "      <td>555-123-4567</td>\n",
       "      <td>charlie@email.com</td>\n",
       "      <td>Breakfast</td>\n",
       "      <td>15</td>\n",
       "    </tr>\n",
       "    <tr>\n",
       "      <th>3</th>\n",
       "      <td>U004</td>\n",
       "      <td>David Brown</td>\n",
       "      <td>27</td>\n",
       "      <td>San Francisco</td>\n",
       "      <td>2023-04-05</td>\n",
       "      <td>444-333-2222</td>\n",
       "      <td>david@email.com</td>\n",
       "      <td>Dinner</td>\n",
       "      <td>10</td>\n",
       "    </tr>\n",
       "    <tr>\n",
       "      <th>4</th>\n",
       "      <td>U005</td>\n",
       "      <td>Emma White</td>\n",
       "      <td>30</td>\n",
       "      <td>Seattle</td>\n",
       "      <td>2023-05-22</td>\n",
       "      <td>777-888-9999</td>\n",
       "      <td>emma@email.com</td>\n",
       "      <td>Lunch</td>\n",
       "      <td>9</td>\n",
       "    </tr>\n",
       "  </tbody>\n",
       "</table>\n",
       "</div>"
      ],
      "text/plain": [
       "  User ID      User Name  Age       Location Registration Date         Phone  \\\n",
       "0    U001  Alice Johnson   28       New York        2023-01-15  123-456-7890   \n",
       "1    U002      Bob Smith   35    Los Angeles        2023-02-20  987-654-3210   \n",
       "2    U003    Charlie Lee   42        Chicago        2023-03-10  555-123-4567   \n",
       "3    U004    David Brown   27  San Francisco        2023-04-05  444-333-2222   \n",
       "4    U005     Emma White   30        Seattle        2023-05-22  777-888-9999   \n",
       "\n",
       "               Email Favorite Meal  Total Orders  \n",
       "0    alice@email.com        Dinner            12  \n",
       "1      bob@email.com         Lunch             8  \n",
       "2  charlie@email.com     Breakfast            15  \n",
       "3    david@email.com        Dinner            10  \n",
       "4     emma@email.com         Lunch             9  "
      ]
     },
     "execution_count": 48,
     "metadata": {},
     "output_type": "execute_result"
    }
   ],
   "source": [
    "# Analyzing user details data\n",
    "user_details.head()"
   ]
  },
  {
   "cell_type": "code",
   "execution_count": 49,
   "id": "c4106a84",
   "metadata": {},
   "outputs": [
    {
     "name": "stdout",
     "output_type": "stream",
     "text": [
      "<class 'pandas.core.frame.DataFrame'>\n",
      "RangeIndex: 10 entries, 0 to 9\n",
      "Data columns (total 9 columns):\n",
      " #   Column             Non-Null Count  Dtype         \n",
      "---  ------             --------------  -----         \n",
      " 0   User ID            10 non-null     object        \n",
      " 1   User Name          10 non-null     object        \n",
      " 2   Age                10 non-null     int64         \n",
      " 3   Location           10 non-null     object        \n",
      " 4   Registration Date  10 non-null     datetime64[ns]\n",
      " 5   Phone              10 non-null     object        \n",
      " 6   Email              10 non-null     object        \n",
      " 7   Favorite Meal      10 non-null     object        \n",
      " 8   Total Orders       10 non-null     int64         \n",
      "dtypes: datetime64[ns](1), int64(2), object(6)\n",
      "memory usage: 852.0+ bytes\n"
     ]
    }
   ],
   "source": [
    "user_details.info()"
   ]
  },
  {
   "cell_type": "code",
   "execution_count": 50,
   "id": "45253528",
   "metadata": {},
   "outputs": [
    {
     "data": {
      "text/plain": [
       "(10, 9)"
      ]
     },
     "execution_count": 50,
     "metadata": {},
     "output_type": "execute_result"
    }
   ],
   "source": [
    "user_details.shape"
   ]
  },
  {
   "cell_type": "code",
   "execution_count": null,
   "id": "e8314705",
   "metadata": {},
   "outputs": [],
   "source": []
  },
  {
   "cell_type": "code",
   "execution_count": 51,
   "id": "036b1ec9",
   "metadata": {},
   "outputs": [
    {
     "data": {
      "text/html": [
       "<div>\n",
       "<style scoped>\n",
       "    .dataframe tbody tr th:only-of-type {\n",
       "        vertical-align: middle;\n",
       "    }\n",
       "\n",
       "    .dataframe tbody tr th {\n",
       "        vertical-align: top;\n",
       "    }\n",
       "\n",
       "    .dataframe thead th {\n",
       "        text-align: right;\n",
       "    }\n",
       "</style>\n",
       "<table border=\"1\" class=\"dataframe\">\n",
       "  <thead>\n",
       "    <tr style=\"text-align: right;\">\n",
       "      <th></th>\n",
       "      <th>Session ID</th>\n",
       "      <th>User ID</th>\n",
       "      <th>Dish Name</th>\n",
       "      <th>Meal Type</th>\n",
       "      <th>Session Start</th>\n",
       "      <th>Session End</th>\n",
       "      <th>Duration (mins)</th>\n",
       "      <th>Session Rating</th>\n",
       "    </tr>\n",
       "  </thead>\n",
       "  <tbody>\n",
       "    <tr>\n",
       "      <th>0</th>\n",
       "      <td>S001</td>\n",
       "      <td>U001</td>\n",
       "      <td>Spaghetti</td>\n",
       "      <td>Dinner</td>\n",
       "      <td>2024-12-01 19:00:00</td>\n",
       "      <td>2024-12-01 19:30:00</td>\n",
       "      <td>30</td>\n",
       "      <td>4.5</td>\n",
       "    </tr>\n",
       "    <tr>\n",
       "      <th>1</th>\n",
       "      <td>S002</td>\n",
       "      <td>U002</td>\n",
       "      <td>Caesar Salad</td>\n",
       "      <td>Lunch</td>\n",
       "      <td>2024-12-01 12:00:00</td>\n",
       "      <td>2024-12-01 12:20:00</td>\n",
       "      <td>20</td>\n",
       "      <td>4.0</td>\n",
       "    </tr>\n",
       "    <tr>\n",
       "      <th>2</th>\n",
       "      <td>S003</td>\n",
       "      <td>U003</td>\n",
       "      <td>Grilled Chicken</td>\n",
       "      <td>Dinner</td>\n",
       "      <td>2024-12-02 19:30:00</td>\n",
       "      <td>2024-12-02 20:10:00</td>\n",
       "      <td>40</td>\n",
       "      <td>4.8</td>\n",
       "    </tr>\n",
       "    <tr>\n",
       "      <th>3</th>\n",
       "      <td>S004</td>\n",
       "      <td>U001</td>\n",
       "      <td>Pancakes</td>\n",
       "      <td>Breakfast</td>\n",
       "      <td>2024-12-02 07:30:00</td>\n",
       "      <td>2024-12-02 08:00:00</td>\n",
       "      <td>30</td>\n",
       "      <td>4.2</td>\n",
       "    </tr>\n",
       "    <tr>\n",
       "      <th>4</th>\n",
       "      <td>S005</td>\n",
       "      <td>U004</td>\n",
       "      <td>Caesar Salad</td>\n",
       "      <td>Lunch</td>\n",
       "      <td>2024-12-03 13:00:00</td>\n",
       "      <td>2024-12-03 13:15:00</td>\n",
       "      <td>15</td>\n",
       "      <td>4.7</td>\n",
       "    </tr>\n",
       "  </tbody>\n",
       "</table>\n",
       "</div>"
      ],
      "text/plain": [
       "  Session ID User ID        Dish Name  Meal Type       Session Start  \\\n",
       "0       S001    U001        Spaghetti     Dinner 2024-12-01 19:00:00   \n",
       "1       S002    U002     Caesar Salad      Lunch 2024-12-01 12:00:00   \n",
       "2       S003    U003  Grilled Chicken     Dinner 2024-12-02 19:30:00   \n",
       "3       S004    U001         Pancakes  Breakfast 2024-12-02 07:30:00   \n",
       "4       S005    U004     Caesar Salad      Lunch 2024-12-03 13:00:00   \n",
       "\n",
       "          Session End  Duration (mins)  Session Rating  \n",
       "0 2024-12-01 19:30:00               30             4.5  \n",
       "1 2024-12-01 12:20:00               20             4.0  \n",
       "2 2024-12-02 20:10:00               40             4.8  \n",
       "3 2024-12-02 08:00:00               30             4.2  \n",
       "4 2024-12-03 13:15:00               15             4.7  "
      ]
     },
     "execution_count": 51,
     "metadata": {},
     "output_type": "execute_result"
    }
   ],
   "source": [
    "# Analyzing cooking session data\n",
    "cooking_sessions.head()"
   ]
  },
  {
   "cell_type": "code",
   "execution_count": 52,
   "id": "62f3a501",
   "metadata": {},
   "outputs": [
    {
     "name": "stdout",
     "output_type": "stream",
     "text": [
      "<class 'pandas.core.frame.DataFrame'>\n",
      "RangeIndex: 16 entries, 0 to 15\n",
      "Data columns (total 8 columns):\n",
      " #   Column           Non-Null Count  Dtype         \n",
      "---  ------           --------------  -----         \n",
      " 0   Session ID       16 non-null     object        \n",
      " 1   User ID          16 non-null     object        \n",
      " 2   Dish Name        16 non-null     object        \n",
      " 3   Meal Type        16 non-null     object        \n",
      " 4   Session Start    16 non-null     datetime64[ns]\n",
      " 5   Session End      16 non-null     datetime64[ns]\n",
      " 6   Duration (mins)  16 non-null     int64         \n",
      " 7   Session Rating   16 non-null     float64       \n",
      "dtypes: datetime64[ns](2), float64(1), int64(1), object(4)\n",
      "memory usage: 1.1+ KB\n"
     ]
    }
   ],
   "source": [
    "cooking_sessions.info()"
   ]
  },
  {
   "cell_type": "code",
   "execution_count": 53,
   "id": "45093d12",
   "metadata": {},
   "outputs": [
    {
     "data": {
      "text/plain": [
       "(16, 8)"
      ]
     },
     "execution_count": 53,
     "metadata": {},
     "output_type": "execute_result"
    }
   ],
   "source": [
    "cooking_sessions.shape"
   ]
  },
  {
   "cell_type": "code",
   "execution_count": 54,
   "id": "86701f82",
   "metadata": {},
   "outputs": [
    {
     "data": {
      "text/html": [
       "<div>\n",
       "<style scoped>\n",
       "    .dataframe tbody tr th:only-of-type {\n",
       "        vertical-align: middle;\n",
       "    }\n",
       "\n",
       "    .dataframe tbody tr th {\n",
       "        vertical-align: top;\n",
       "    }\n",
       "\n",
       "    .dataframe thead th {\n",
       "        text-align: right;\n",
       "    }\n",
       "</style>\n",
       "<table border=\"1\" class=\"dataframe\">\n",
       "  <thead>\n",
       "    <tr style=\"text-align: right;\">\n",
       "      <th></th>\n",
       "      <th>Order ID</th>\n",
       "      <th>User ID</th>\n",
       "      <th>Order Date</th>\n",
       "      <th>Meal Type</th>\n",
       "      <th>Dish Name</th>\n",
       "      <th>Order Status</th>\n",
       "      <th>Amount (USD)</th>\n",
       "      <th>Time of Day</th>\n",
       "      <th>Rating</th>\n",
       "      <th>Session ID</th>\n",
       "    </tr>\n",
       "  </thead>\n",
       "  <tbody>\n",
       "    <tr>\n",
       "      <th>0</th>\n",
       "      <td>1001</td>\n",
       "      <td>U001</td>\n",
       "      <td>2024-12-01</td>\n",
       "      <td>Dinner</td>\n",
       "      <td>Spaghetti</td>\n",
       "      <td>Completed</td>\n",
       "      <td>15.0</td>\n",
       "      <td>Night</td>\n",
       "      <td>5.0</td>\n",
       "      <td>S001</td>\n",
       "    </tr>\n",
       "    <tr>\n",
       "      <th>1</th>\n",
       "      <td>1002</td>\n",
       "      <td>U002</td>\n",
       "      <td>2024-12-01</td>\n",
       "      <td>Lunch</td>\n",
       "      <td>Caesar Salad</td>\n",
       "      <td>Completed</td>\n",
       "      <td>10.0</td>\n",
       "      <td>Day</td>\n",
       "      <td>4.0</td>\n",
       "      <td>S002</td>\n",
       "    </tr>\n",
       "    <tr>\n",
       "      <th>2</th>\n",
       "      <td>1003</td>\n",
       "      <td>U003</td>\n",
       "      <td>2024-12-02</td>\n",
       "      <td>Dinner</td>\n",
       "      <td>Grilled Chicken</td>\n",
       "      <td>Canceled</td>\n",
       "      <td>12.5</td>\n",
       "      <td>Night</td>\n",
       "      <td>NaN</td>\n",
       "      <td>S003</td>\n",
       "    </tr>\n",
       "    <tr>\n",
       "      <th>3</th>\n",
       "      <td>1004</td>\n",
       "      <td>U001</td>\n",
       "      <td>2024-12-02</td>\n",
       "      <td>Breakfast</td>\n",
       "      <td>Pancakes</td>\n",
       "      <td>Completed</td>\n",
       "      <td>8.0</td>\n",
       "      <td>Morning</td>\n",
       "      <td>4.0</td>\n",
       "      <td>S004</td>\n",
       "    </tr>\n",
       "    <tr>\n",
       "      <th>4</th>\n",
       "      <td>1005</td>\n",
       "      <td>U004</td>\n",
       "      <td>2024-12-03</td>\n",
       "      <td>Lunch</td>\n",
       "      <td>Caesar Salad</td>\n",
       "      <td>Completed</td>\n",
       "      <td>9.0</td>\n",
       "      <td>Day</td>\n",
       "      <td>4.0</td>\n",
       "      <td>S005</td>\n",
       "    </tr>\n",
       "  </tbody>\n",
       "</table>\n",
       "</div>"
      ],
      "text/plain": [
       "   Order ID User ID Order Date  Meal Type        Dish Name Order Status  \\\n",
       "0      1001    U001 2024-12-01     Dinner        Spaghetti    Completed   \n",
       "1      1002    U002 2024-12-01      Lunch     Caesar Salad    Completed   \n",
       "2      1003    U003 2024-12-02     Dinner  Grilled Chicken     Canceled   \n",
       "3      1004    U001 2024-12-02  Breakfast         Pancakes    Completed   \n",
       "4      1005    U004 2024-12-03      Lunch     Caesar Salad    Completed   \n",
       "\n",
       "   Amount (USD) Time of Day  Rating Session ID  \n",
       "0          15.0       Night     5.0       S001  \n",
       "1          10.0         Day     4.0       S002  \n",
       "2          12.5       Night     NaN       S003  \n",
       "3           8.0     Morning     4.0       S004  \n",
       "4           9.0         Day     4.0       S005  "
      ]
     },
     "execution_count": 54,
     "metadata": {},
     "output_type": "execute_result"
    }
   ],
   "source": [
    "# Analyzing order details data\n",
    "order_details.head()"
   ]
  },
  {
   "cell_type": "code",
   "execution_count": 55,
   "id": "51173d4a",
   "metadata": {},
   "outputs": [
    {
     "data": {
      "text/plain": [
       "(16, 10)"
      ]
     },
     "execution_count": 55,
     "metadata": {},
     "output_type": "execute_result"
    }
   ],
   "source": [
    "order_details.shape"
   ]
  },
  {
   "cell_type": "code",
   "execution_count": 56,
   "id": "352e1595",
   "metadata": {},
   "outputs": [
    {
     "name": "stdout",
     "output_type": "stream",
     "text": [
      "<class 'pandas.core.frame.DataFrame'>\n",
      "RangeIndex: 16 entries, 0 to 15\n",
      "Data columns (total 10 columns):\n",
      " #   Column        Non-Null Count  Dtype         \n",
      "---  ------        --------------  -----         \n",
      " 0   Order ID      16 non-null     int64         \n",
      " 1   User ID       16 non-null     object        \n",
      " 2   Order Date    16 non-null     datetime64[ns]\n",
      " 3   Meal Type     16 non-null     object        \n",
      " 4   Dish Name     16 non-null     object        \n",
      " 5   Order Status  16 non-null     object        \n",
      " 6   Amount (USD)  16 non-null     float64       \n",
      " 7   Time of Day   16 non-null     object        \n",
      " 8   Rating        14 non-null     float64       \n",
      " 9   Session ID    16 non-null     object        \n",
      "dtypes: datetime64[ns](1), float64(2), int64(1), object(6)\n",
      "memory usage: 1.4+ KB\n"
     ]
    }
   ],
   "source": [
    "order_details.info()"
   ]
  },
  {
   "cell_type": "code",
   "execution_count": 57,
   "id": "a7aec7b3",
   "metadata": {},
   "outputs": [
    {
     "data": {
      "text/plain": [
       "0     5.0\n",
       "1     4.0\n",
       "2     NaN\n",
       "3     4.0\n",
       "4     4.0\n",
       "5     4.0\n",
       "6     4.0\n",
       "7     NaN\n",
       "8     5.0\n",
       "9     4.0\n",
       "10    4.0\n",
       "11    4.0\n",
       "12    4.0\n",
       "13    5.0\n",
       "14    5.0\n",
       "15    4.0\n",
       "Name: Rating, dtype: float64"
      ]
     },
     "execution_count": 57,
     "metadata": {},
     "output_type": "execute_result"
    }
   ],
   "source": [
    "order_details['Rating']"
   ]
  },
  {
   "cell_type": "code",
   "execution_count": 58,
   "id": "95e7e47b",
   "metadata": {},
   "outputs": [],
   "source": [
    "order_details['Rating'].fillna(order_details['Rating'].median(), inplace=True)"
   ]
  },
  {
   "cell_type": "code",
   "execution_count": 59,
   "id": "57455c9a",
   "metadata": {},
   "outputs": [
    {
     "data": {
      "text/plain": [
       "0     5.0\n",
       "1     4.0\n",
       "2     4.0\n",
       "3     4.0\n",
       "4     4.0\n",
       "5     4.0\n",
       "6     4.0\n",
       "7     4.0\n",
       "8     5.0\n",
       "9     4.0\n",
       "10    4.0\n",
       "11    4.0\n",
       "12    4.0\n",
       "13    5.0\n",
       "14    5.0\n",
       "15    4.0\n",
       "Name: Rating, dtype: float64"
      ]
     },
     "execution_count": 59,
     "metadata": {},
     "output_type": "execute_result"
    }
   ],
   "source": [
    "order_details['Rating']"
   ]
  },
  {
   "cell_type": "code",
   "execution_count": 60,
   "id": "370bdb5b",
   "metadata": {},
   "outputs": [],
   "source": [
    "# Checking data inconsistances\n",
    "missing_users_sessions = set(cooking_sessions['User ID']) - set(user_details['User ID'])\n",
    "missing_users_orders = set(order_details['User ID']) - set(user_details['User ID'])"
   ]
  },
  {
   "cell_type": "code",
   "execution_count": 61,
   "id": "653744e6",
   "metadata": {},
   "outputs": [
    {
     "name": "stdout",
     "output_type": "stream",
     "text": [
      "Users in CookingSessions but not in UserDetails: set()\n",
      "Users in OrderDetails but not in UserDetails: set()\n"
     ]
    }
   ],
   "source": [
    "print(\"Users in CookingSessions but not in UserDetails:\", missing_users_in_sessions)\n",
    "print(\"Users in OrderDetails but not in UserDetails:\", missing_users_in_orders)"
   ]
  },
  {
   "cell_type": "markdown",
   "id": "48099820",
   "metadata": {},
   "source": [
    "so the dataset is consistent"
   ]
  },
  {
   "cell_type": "markdown",
   "id": "8d53ecd2",
   "metadata": {},
   "source": [
    "### Data merging"
   ]
  },
  {
   "cell_type": "code",
   "execution_count": 62,
   "id": "51c3b46f",
   "metadata": {},
   "outputs": [],
   "source": [
    "# Merging cooking sessions with user details\n",
    "sessions_user = pd.merge(cooking_sessions, user_details, on='User ID', how='left')"
   ]
  },
  {
   "cell_type": "code",
   "execution_count": 63,
   "id": "5d60d5f6",
   "metadata": {},
   "outputs": [
    {
     "data": {
      "text/html": [
       "<div>\n",
       "<style scoped>\n",
       "    .dataframe tbody tr th:only-of-type {\n",
       "        vertical-align: middle;\n",
       "    }\n",
       "\n",
       "    .dataframe tbody tr th {\n",
       "        vertical-align: top;\n",
       "    }\n",
       "\n",
       "    .dataframe thead th {\n",
       "        text-align: right;\n",
       "    }\n",
       "</style>\n",
       "<table border=\"1\" class=\"dataframe\">\n",
       "  <thead>\n",
       "    <tr style=\"text-align: right;\">\n",
       "      <th></th>\n",
       "      <th>Session ID</th>\n",
       "      <th>User ID</th>\n",
       "      <th>Dish Name</th>\n",
       "      <th>Meal Type</th>\n",
       "      <th>Session Start</th>\n",
       "      <th>Session End</th>\n",
       "      <th>Duration (mins)</th>\n",
       "      <th>Session Rating</th>\n",
       "      <th>User Name</th>\n",
       "      <th>Age</th>\n",
       "      <th>Location</th>\n",
       "      <th>Registration Date</th>\n",
       "      <th>Phone</th>\n",
       "      <th>Email</th>\n",
       "      <th>Favorite Meal</th>\n",
       "      <th>Total Orders</th>\n",
       "    </tr>\n",
       "  </thead>\n",
       "  <tbody>\n",
       "    <tr>\n",
       "      <th>0</th>\n",
       "      <td>S001</td>\n",
       "      <td>U001</td>\n",
       "      <td>Spaghetti</td>\n",
       "      <td>Dinner</td>\n",
       "      <td>2024-12-01 19:00:00</td>\n",
       "      <td>2024-12-01 19:30:00</td>\n",
       "      <td>30</td>\n",
       "      <td>4.5</td>\n",
       "      <td>Alice Johnson</td>\n",
       "      <td>28</td>\n",
       "      <td>New York</td>\n",
       "      <td>2023-01-15</td>\n",
       "      <td>123-456-7890</td>\n",
       "      <td>alice@email.com</td>\n",
       "      <td>Dinner</td>\n",
       "      <td>12</td>\n",
       "    </tr>\n",
       "    <tr>\n",
       "      <th>1</th>\n",
       "      <td>S002</td>\n",
       "      <td>U002</td>\n",
       "      <td>Caesar Salad</td>\n",
       "      <td>Lunch</td>\n",
       "      <td>2024-12-01 12:00:00</td>\n",
       "      <td>2024-12-01 12:20:00</td>\n",
       "      <td>20</td>\n",
       "      <td>4.0</td>\n",
       "      <td>Bob Smith</td>\n",
       "      <td>35</td>\n",
       "      <td>Los Angeles</td>\n",
       "      <td>2023-02-20</td>\n",
       "      <td>987-654-3210</td>\n",
       "      <td>bob@email.com</td>\n",
       "      <td>Lunch</td>\n",
       "      <td>8</td>\n",
       "    </tr>\n",
       "    <tr>\n",
       "      <th>2</th>\n",
       "      <td>S003</td>\n",
       "      <td>U003</td>\n",
       "      <td>Grilled Chicken</td>\n",
       "      <td>Dinner</td>\n",
       "      <td>2024-12-02 19:30:00</td>\n",
       "      <td>2024-12-02 20:10:00</td>\n",
       "      <td>40</td>\n",
       "      <td>4.8</td>\n",
       "      <td>Charlie Lee</td>\n",
       "      <td>42</td>\n",
       "      <td>Chicago</td>\n",
       "      <td>2023-03-10</td>\n",
       "      <td>555-123-4567</td>\n",
       "      <td>charlie@email.com</td>\n",
       "      <td>Breakfast</td>\n",
       "      <td>15</td>\n",
       "    </tr>\n",
       "    <tr>\n",
       "      <th>3</th>\n",
       "      <td>S004</td>\n",
       "      <td>U001</td>\n",
       "      <td>Pancakes</td>\n",
       "      <td>Breakfast</td>\n",
       "      <td>2024-12-02 07:30:00</td>\n",
       "      <td>2024-12-02 08:00:00</td>\n",
       "      <td>30</td>\n",
       "      <td>4.2</td>\n",
       "      <td>Alice Johnson</td>\n",
       "      <td>28</td>\n",
       "      <td>New York</td>\n",
       "      <td>2023-01-15</td>\n",
       "      <td>123-456-7890</td>\n",
       "      <td>alice@email.com</td>\n",
       "      <td>Dinner</td>\n",
       "      <td>12</td>\n",
       "    </tr>\n",
       "    <tr>\n",
       "      <th>4</th>\n",
       "      <td>S005</td>\n",
       "      <td>U004</td>\n",
       "      <td>Caesar Salad</td>\n",
       "      <td>Lunch</td>\n",
       "      <td>2024-12-03 13:00:00</td>\n",
       "      <td>2024-12-03 13:15:00</td>\n",
       "      <td>15</td>\n",
       "      <td>4.7</td>\n",
       "      <td>David Brown</td>\n",
       "      <td>27</td>\n",
       "      <td>San Francisco</td>\n",
       "      <td>2023-04-05</td>\n",
       "      <td>444-333-2222</td>\n",
       "      <td>david@email.com</td>\n",
       "      <td>Dinner</td>\n",
       "      <td>10</td>\n",
       "    </tr>\n",
       "  </tbody>\n",
       "</table>\n",
       "</div>"
      ],
      "text/plain": [
       "  Session ID User ID        Dish Name  Meal Type       Session Start  \\\n",
       "0       S001    U001        Spaghetti     Dinner 2024-12-01 19:00:00   \n",
       "1       S002    U002     Caesar Salad      Lunch 2024-12-01 12:00:00   \n",
       "2       S003    U003  Grilled Chicken     Dinner 2024-12-02 19:30:00   \n",
       "3       S004    U001         Pancakes  Breakfast 2024-12-02 07:30:00   \n",
       "4       S005    U004     Caesar Salad      Lunch 2024-12-03 13:00:00   \n",
       "\n",
       "          Session End  Duration (mins)  Session Rating      User Name  Age  \\\n",
       "0 2024-12-01 19:30:00               30             4.5  Alice Johnson   28   \n",
       "1 2024-12-01 12:20:00               20             4.0      Bob Smith   35   \n",
       "2 2024-12-02 20:10:00               40             4.8    Charlie Lee   42   \n",
       "3 2024-12-02 08:00:00               30             4.2  Alice Johnson   28   \n",
       "4 2024-12-03 13:15:00               15             4.7    David Brown   27   \n",
       "\n",
       "        Location Registration Date         Phone              Email  \\\n",
       "0       New York        2023-01-15  123-456-7890    alice@email.com   \n",
       "1    Los Angeles        2023-02-20  987-654-3210      bob@email.com   \n",
       "2        Chicago        2023-03-10  555-123-4567  charlie@email.com   \n",
       "3       New York        2023-01-15  123-456-7890    alice@email.com   \n",
       "4  San Francisco        2023-04-05  444-333-2222    david@email.com   \n",
       "\n",
       "  Favorite Meal  Total Orders  \n",
       "0        Dinner            12  \n",
       "1         Lunch             8  \n",
       "2     Breakfast            15  \n",
       "3        Dinner            12  \n",
       "4        Dinner            10  "
      ]
     },
     "execution_count": 63,
     "metadata": {},
     "output_type": "execute_result"
    }
   ],
   "source": [
    "sessions_user.head()"
   ]
  },
  {
   "cell_type": "code",
   "execution_count": 64,
   "id": "be6ebdbf",
   "metadata": {},
   "outputs": [],
   "source": [
    "# Merge order details with session users\n",
    "merged_data = pd.merge(order_details, sessions_user, on='Session ID', how='left')"
   ]
  },
  {
   "cell_type": "code",
   "execution_count": 65,
   "id": "a6635081",
   "metadata": {},
   "outputs": [
    {
     "data": {
      "text/html": [
       "<div>\n",
       "<style scoped>\n",
       "    .dataframe tbody tr th:only-of-type {\n",
       "        vertical-align: middle;\n",
       "    }\n",
       "\n",
       "    .dataframe tbody tr th {\n",
       "        vertical-align: top;\n",
       "    }\n",
       "\n",
       "    .dataframe thead th {\n",
       "        text-align: right;\n",
       "    }\n",
       "</style>\n",
       "<table border=\"1\" class=\"dataframe\">\n",
       "  <thead>\n",
       "    <tr style=\"text-align: right;\">\n",
       "      <th></th>\n",
       "      <th>Order ID</th>\n",
       "      <th>User ID_x</th>\n",
       "      <th>Order Date</th>\n",
       "      <th>Meal Type_x</th>\n",
       "      <th>Dish Name_x</th>\n",
       "      <th>Order Status</th>\n",
       "      <th>Amount (USD)</th>\n",
       "      <th>Time of Day</th>\n",
       "      <th>Rating</th>\n",
       "      <th>Session ID</th>\n",
       "      <th>...</th>\n",
       "      <th>Duration (mins)</th>\n",
       "      <th>Session Rating</th>\n",
       "      <th>User Name</th>\n",
       "      <th>Age</th>\n",
       "      <th>Location</th>\n",
       "      <th>Registration Date</th>\n",
       "      <th>Phone</th>\n",
       "      <th>Email</th>\n",
       "      <th>Favorite Meal</th>\n",
       "      <th>Total Orders</th>\n",
       "    </tr>\n",
       "  </thead>\n",
       "  <tbody>\n",
       "    <tr>\n",
       "      <th>0</th>\n",
       "      <td>1001</td>\n",
       "      <td>U001</td>\n",
       "      <td>2024-12-01</td>\n",
       "      <td>Dinner</td>\n",
       "      <td>Spaghetti</td>\n",
       "      <td>Completed</td>\n",
       "      <td>15.0</td>\n",
       "      <td>Night</td>\n",
       "      <td>5.0</td>\n",
       "      <td>S001</td>\n",
       "      <td>...</td>\n",
       "      <td>30</td>\n",
       "      <td>4.5</td>\n",
       "      <td>Alice Johnson</td>\n",
       "      <td>28</td>\n",
       "      <td>New York</td>\n",
       "      <td>2023-01-15</td>\n",
       "      <td>123-456-7890</td>\n",
       "      <td>alice@email.com</td>\n",
       "      <td>Dinner</td>\n",
       "      <td>12</td>\n",
       "    </tr>\n",
       "    <tr>\n",
       "      <th>1</th>\n",
       "      <td>1002</td>\n",
       "      <td>U002</td>\n",
       "      <td>2024-12-01</td>\n",
       "      <td>Lunch</td>\n",
       "      <td>Caesar Salad</td>\n",
       "      <td>Completed</td>\n",
       "      <td>10.0</td>\n",
       "      <td>Day</td>\n",
       "      <td>4.0</td>\n",
       "      <td>S002</td>\n",
       "      <td>...</td>\n",
       "      <td>20</td>\n",
       "      <td>4.0</td>\n",
       "      <td>Bob Smith</td>\n",
       "      <td>35</td>\n",
       "      <td>Los Angeles</td>\n",
       "      <td>2023-02-20</td>\n",
       "      <td>987-654-3210</td>\n",
       "      <td>bob@email.com</td>\n",
       "      <td>Lunch</td>\n",
       "      <td>8</td>\n",
       "    </tr>\n",
       "    <tr>\n",
       "      <th>2</th>\n",
       "      <td>1003</td>\n",
       "      <td>U003</td>\n",
       "      <td>2024-12-02</td>\n",
       "      <td>Dinner</td>\n",
       "      <td>Grilled Chicken</td>\n",
       "      <td>Canceled</td>\n",
       "      <td>12.5</td>\n",
       "      <td>Night</td>\n",
       "      <td>4.0</td>\n",
       "      <td>S003</td>\n",
       "      <td>...</td>\n",
       "      <td>40</td>\n",
       "      <td>4.8</td>\n",
       "      <td>Charlie Lee</td>\n",
       "      <td>42</td>\n",
       "      <td>Chicago</td>\n",
       "      <td>2023-03-10</td>\n",
       "      <td>555-123-4567</td>\n",
       "      <td>charlie@email.com</td>\n",
       "      <td>Breakfast</td>\n",
       "      <td>15</td>\n",
       "    </tr>\n",
       "    <tr>\n",
       "      <th>3</th>\n",
       "      <td>1004</td>\n",
       "      <td>U001</td>\n",
       "      <td>2024-12-02</td>\n",
       "      <td>Breakfast</td>\n",
       "      <td>Pancakes</td>\n",
       "      <td>Completed</td>\n",
       "      <td>8.0</td>\n",
       "      <td>Morning</td>\n",
       "      <td>4.0</td>\n",
       "      <td>S004</td>\n",
       "      <td>...</td>\n",
       "      <td>30</td>\n",
       "      <td>4.2</td>\n",
       "      <td>Alice Johnson</td>\n",
       "      <td>28</td>\n",
       "      <td>New York</td>\n",
       "      <td>2023-01-15</td>\n",
       "      <td>123-456-7890</td>\n",
       "      <td>alice@email.com</td>\n",
       "      <td>Dinner</td>\n",
       "      <td>12</td>\n",
       "    </tr>\n",
       "    <tr>\n",
       "      <th>4</th>\n",
       "      <td>1005</td>\n",
       "      <td>U004</td>\n",
       "      <td>2024-12-03</td>\n",
       "      <td>Lunch</td>\n",
       "      <td>Caesar Salad</td>\n",
       "      <td>Completed</td>\n",
       "      <td>9.0</td>\n",
       "      <td>Day</td>\n",
       "      <td>4.0</td>\n",
       "      <td>S005</td>\n",
       "      <td>...</td>\n",
       "      <td>15</td>\n",
       "      <td>4.7</td>\n",
       "      <td>David Brown</td>\n",
       "      <td>27</td>\n",
       "      <td>San Francisco</td>\n",
       "      <td>2023-04-05</td>\n",
       "      <td>444-333-2222</td>\n",
       "      <td>david@email.com</td>\n",
       "      <td>Dinner</td>\n",
       "      <td>10</td>\n",
       "    </tr>\n",
       "  </tbody>\n",
       "</table>\n",
       "<p>5 rows × 25 columns</p>\n",
       "</div>"
      ],
      "text/plain": [
       "   Order ID User ID_x Order Date Meal Type_x      Dish Name_x Order Status  \\\n",
       "0      1001      U001 2024-12-01      Dinner        Spaghetti    Completed   \n",
       "1      1002      U002 2024-12-01       Lunch     Caesar Salad    Completed   \n",
       "2      1003      U003 2024-12-02      Dinner  Grilled Chicken     Canceled   \n",
       "3      1004      U001 2024-12-02   Breakfast         Pancakes    Completed   \n",
       "4      1005      U004 2024-12-03       Lunch     Caesar Salad    Completed   \n",
       "\n",
       "   Amount (USD) Time of Day  Rating Session ID  ... Duration (mins)  \\\n",
       "0          15.0       Night     5.0       S001  ...              30   \n",
       "1          10.0         Day     4.0       S002  ...              20   \n",
       "2          12.5       Night     4.0       S003  ...              40   \n",
       "3           8.0     Morning     4.0       S004  ...              30   \n",
       "4           9.0         Day     4.0       S005  ...              15   \n",
       "\n",
       "  Session Rating      User Name Age       Location  Registration Date  \\\n",
       "0            4.5  Alice Johnson  28       New York         2023-01-15   \n",
       "1            4.0      Bob Smith  35    Los Angeles         2023-02-20   \n",
       "2            4.8    Charlie Lee  42        Chicago         2023-03-10   \n",
       "3            4.2  Alice Johnson  28       New York         2023-01-15   \n",
       "4            4.7    David Brown  27  San Francisco         2023-04-05   \n",
       "\n",
       "          Phone              Email  Favorite Meal Total Orders  \n",
       "0  123-456-7890    alice@email.com         Dinner           12  \n",
       "1  987-654-3210      bob@email.com          Lunch            8  \n",
       "2  555-123-4567  charlie@email.com      Breakfast           15  \n",
       "3  123-456-7890    alice@email.com         Dinner           12  \n",
       "4  444-333-2222    david@email.com         Dinner           10  \n",
       "\n",
       "[5 rows x 25 columns]"
      ]
     },
     "execution_count": 65,
     "metadata": {},
     "output_type": "execute_result"
    }
   ],
   "source": [
    "merged_data.head()"
   ]
  },
  {
   "cell_type": "code",
   "execution_count": 66,
   "id": "0b9153a7",
   "metadata": {},
   "outputs": [
    {
     "data": {
      "text/plain": [
       "Index(['Order ID', 'User ID_x', 'Order Date', 'Meal Type_x', 'Dish Name_x',\n",
       "       'Order Status', 'Amount (USD)', 'Time of Day', 'Rating', 'Session ID',\n",
       "       'User ID_y', 'Dish Name_y', 'Meal Type_y', 'Session Start',\n",
       "       'Session End', 'Duration (mins)', 'Session Rating', 'User Name', 'Age',\n",
       "       'Location', 'Registration Date', 'Phone', 'Email', 'Favorite Meal',\n",
       "       'Total Orders'],\n",
       "      dtype='object')"
      ]
     },
     "execution_count": 66,
     "metadata": {},
     "output_type": "execute_result"
    }
   ],
   "source": [
    "merged_data.columns"
   ]
  },
  {
   "cell_type": "code",
   "execution_count": null,
   "id": "bd4a7063",
   "metadata": {},
   "outputs": [],
   "source": []
  },
  {
   "cell_type": "code",
   "execution_count": 67,
   "id": "13faeb6b",
   "metadata": {},
   "outputs": [
    {
     "name": "stdout",
     "output_type": "stream",
     "text": [
      "  User ID_x User ID_y\n",
      "0      U001      U001\n",
      "1      U002      U002\n",
      "2      U003      U003\n",
      "3      U001      U001\n",
      "4      U004      U004\n"
     ]
    }
   ],
   "source": [
    "print(merged_data[['User ID_x', 'User ID_y']].head())"
   ]
  },
  {
   "cell_type": "code",
   "execution_count": 68,
   "id": "f76c8d0b",
   "metadata": {},
   "outputs": [
    {
     "name": "stdout",
     "output_type": "stream",
     "text": [
      "       Dish Name_x      Dish Name_y\n",
      "0        Spaghetti        Spaghetti\n",
      "1     Caesar Salad     Caesar Salad\n",
      "2  Grilled Chicken  Grilled Chicken\n",
      "3         Pancakes         Pancakes\n",
      "4     Caesar Salad     Caesar Salad\n"
     ]
    }
   ],
   "source": [
    "print(merged_data[['Dish Name_x', 'Dish Name_y']].head())"
   ]
  },
  {
   "cell_type": "code",
   "execution_count": 69,
   "id": "95a13cb0",
   "metadata": {},
   "outputs": [
    {
     "name": "stdout",
     "output_type": "stream",
     "text": [
      "  Meal Type_x Meal Type_y\n",
      "0      Dinner      Dinner\n",
      "1       Lunch       Lunch\n",
      "2      Dinner      Dinner\n",
      "3   Breakfast   Breakfast\n",
      "4       Lunch       Lunch\n"
     ]
    }
   ],
   "source": [
    "print(merged_data[['Meal Type_x', 'Meal Type_y']].head())"
   ]
  },
  {
   "cell_type": "code",
   "execution_count": 70,
   "id": "1bd2848a",
   "metadata": {},
   "outputs": [],
   "source": [
    "# Droping unnecessary columns\n",
    "merged_data = merged_data.drop(columns=['User ID_x', 'Dish Name_x', 'Meal Type_x'])\n",
    "\n",
    "# Renaming\n",
    "merged_data = merged_data.rename(columns={'User ID_y': 'User ID', 'Dish Name_y': 'Dish Name', 'Meal Type_y': 'Meal Type'})"
   ]
  },
  {
   "cell_type": "markdown",
   "id": "9b96c98a",
   "metadata": {},
   "source": [
    "### Analysis"
   ]
  },
  {
   "cell_type": "markdown",
   "id": "62e21571",
   "metadata": {},
   "source": [
    "#### Relationship b/w cooking session and order "
   ]
  },
  {
   "cell_type": "code",
   "execution_count": 71,
   "id": "0f2ce455",
   "metadata": {},
   "outputs": [],
   "source": [
    "# Calculating avg session rating for completed orders\n",
    "completed_orders = merged_data[merged_data['Order Status'] == 'Completed']\n",
    "avg_session_rating = completed_orders.groupby('User ID')['Session Rating'].mean()"
   ]
  },
  {
   "cell_type": "code",
   "execution_count": 72,
   "id": "2cd6db34",
   "metadata": {},
   "outputs": [
    {
     "data": {
      "text/plain": [
       "User ID\n",
       "U001    4.533333\n",
       "U002    4.133333\n",
       "U003    4.600000\n",
       "U004    4.700000\n",
       "U005    4.500000\n",
       "U006    4.800000\n",
       "U007    5.000000\n",
       "U008    4.300000\n",
       "Name: Session Rating, dtype: float64"
      ]
     },
     "execution_count": 72,
     "metadata": {},
     "output_type": "execute_result"
    }
   ],
   "source": [
    "avg_session_rating"
   ]
  },
  {
   "cell_type": "code",
   "execution_count": null,
   "id": "6137a01a",
   "metadata": {},
   "outputs": [],
   "source": []
  },
  {
   "cell_type": "code",
   "execution_count": 84,
   "id": "b49447a8",
   "metadata": {},
   "outputs": [
    {
     "name": "stdout",
     "output_type": "stream",
     "text": [
      "Order Status\n",
      "Canceled     30.000000\n",
      "Completed    30.357143\n",
      "Name: Duration (mins), dtype: float64\n"
     ]
    }
   ],
   "source": [
    "# Analyzing duration of cooking session influence whether an order is placed\n",
    "session_duration_analysis = merged_data.groupby('Order Status')['Duration (mins)'].mean()\n",
    "print(session_duration_analysis)"
   ]
  },
  {
   "cell_type": "markdown",
   "id": "925b78c3",
   "metadata": {},
   "source": [
    "From this we can understand that the avg duration for sessions that completed orders is slightly higher. so that means\n",
    "users who spend a bit more time in their cooking sessions were more likely to complete their orders."
   ]
  },
  {
   "cell_type": "code",
   "execution_count": 86,
   "id": "6d25e239",
   "metadata": {},
   "outputs": [
    {
     "name": "stdout",
     "output_type": "stream",
     "text": [
      "count    8.00000\n",
      "mean     2.00000\n",
      "std      0.92582\n",
      "min      1.00000\n",
      "25%      1.00000\n",
      "50%      2.00000\n",
      "75%      3.00000\n",
      "max      3.00000\n",
      "Name: Order ID, dtype: float64\n"
     ]
    }
   ],
   "source": [
    "# Analyzing repeat orders\n",
    "repeat_orders = merged_data.groupby('User ID')['Order ID'].nunique()\n",
    "print(repeat_orders.describe())"
   ]
  },
  {
   "cell_type": "code",
   "execution_count": null,
   "id": "5d2e7b85",
   "metadata": {},
   "outputs": [],
   "source": []
  },
  {
   "cell_type": "code",
   "execution_count": 87,
   "id": "d661ed3c",
   "metadata": {},
   "outputs": [
    {
     "name": "stdout",
     "output_type": "stream",
     "text": [
      "Time of Day\n",
      "Night      7\n",
      "Day        4\n",
      "Morning    3\n",
      "Name: count, dtype: int64\n"
     ]
    }
   ],
   "source": [
    "# Identifying which times of the day are most likely to result in orders\n",
    "popular_times = completed_orders['Time of Day'].value_counts()\n",
    "print(popular_times)"
   ]
  },
  {
   "cell_type": "markdown",
   "id": "6df4e9ad",
   "metadata": {},
   "source": [
    "Orders are most popular at night likely due to late night cravings, and followed by day for lunch time and least during \n",
    "morning."
   ]
  },
  {
   "cell_type": "markdown",
   "id": "7838dbf8",
   "metadata": {},
   "source": [
    "#### Identifying popular dishes"
   ]
  },
  {
   "cell_type": "code",
   "execution_count": 73,
   "id": "be16c1bc",
   "metadata": {},
   "outputs": [],
   "source": [
    "popular_dishes = merged_data['Dish Name'].value_counts()"
   ]
  },
  {
   "cell_type": "code",
   "execution_count": 74,
   "id": "965aa608",
   "metadata": {},
   "outputs": [
    {
     "data": {
      "text/plain": [
       "Dish Name\n",
       "Spaghetti          4\n",
       "Grilled Chicken    4\n",
       "Caesar Salad       3\n",
       "Pancakes           2\n",
       "Veggie Burger      2\n",
       "Oatmeal            1\n",
       "Name: count, dtype: int64"
      ]
     },
     "execution_count": 74,
     "metadata": {},
     "output_type": "execute_result"
    }
   ],
   "source": [
    "popular_dishes"
   ]
  },
  {
   "cell_type": "markdown",
   "id": "39e5234d",
   "metadata": {},
   "source": [
    "From this we can clearly understand that the popular dishes are Spaghetti and Grilled Chicken"
   ]
  },
  {
   "cell_type": "markdown",
   "id": "f143c57e",
   "metadata": {},
   "source": [
    "#### Impact of demographics on user behaviour"
   ]
  },
  {
   "cell_type": "code",
   "execution_count": 76,
   "id": "30b40b36",
   "metadata": {},
   "outputs": [],
   "source": [
    "# Avg order value by location\n",
    "avg_order_value_by_loc = merged_data.groupby('Location')['Amount (USD)'].mean()"
   ]
  },
  {
   "cell_type": "code",
   "execution_count": 89,
   "id": "729b2192",
   "metadata": {},
   "outputs": [
    {
     "name": "stdout",
     "output_type": "stream",
     "text": [
      "Location\n",
      "Austin           13.000000\n",
      "Boston           14.000000\n",
      "Chicago          10.666667\n",
      "Los Angeles      10.333333\n",
      "Miami            11.000000\n",
      "New York         11.666667\n",
      "San Francisco    10.750000\n",
      "Seattle          11.250000\n",
      "Name: Amount (USD), dtype: float64\n"
     ]
    }
   ],
   "source": [
    "print(avg_order_value_by_loc)"
   ]
  },
  {
   "cell_type": "markdown",
   "id": "ba411229",
   "metadata": {},
   "source": [
    "Cities like Austin and Boston have higher average order values, suggesting higher spending power, while Los Angeles and Chicago\n",
    "show lower values, indicating more price-sensitive behavior"
   ]
  },
  {
   "cell_type": "code",
   "execution_count": 78,
   "id": "7e9076fc",
   "metadata": {},
   "outputs": [],
   "source": [
    "# Analyzing no.of orders by age group\n",
    "merged_data['Age Group'] = pd.cut(merged_data['Age'], bins=[0, 18, 35, 50, 65, 100],\n",
    "                           labels=['Teen', 'Young Adult', 'Adult', 'Senior', 'Elderly'])"
   ]
  },
  {
   "cell_type": "code",
   "execution_count": 81,
   "id": "2c92cb0c",
   "metadata": {},
   "outputs": [
    {
     "name": "stderr",
     "output_type": "stream",
     "text": [
      "C:\\Users\\adina\\AppData\\Local\\Temp\\ipykernel_19636\\1675850287.py:1: FutureWarning: The default of observed=False is deprecated and will be changed to True in a future version of pandas. Pass observed=False to retain current behavior or observed=True to adopt the future default and silence this warning.\n",
      "  orders_by_agegroup = merged_data.groupby('Age Group')['Order ID'].count()\n"
     ]
    }
   ],
   "source": [
    "orders_by_agegroup = merged_data.groupby('Age Group')['Order ID'].count()"
   ]
  },
  {
   "cell_type": "code",
   "execution_count": 88,
   "id": "18ffff81",
   "metadata": {},
   "outputs": [
    {
     "name": "stdout",
     "output_type": "stream",
     "text": [
      "Age Group\n",
      "Teen            0\n",
      "Young Adult    12\n",
      "Adult           4\n",
      "Senior          0\n",
      "Elderly         0\n",
      "Name: Order ID, dtype: int64\n"
     ]
    }
   ],
   "source": [
    "print(orders_by_agegroup)"
   ]
  },
  {
   "cell_type": "markdown",
   "id": "bb7823bf",
   "metadata": {},
   "source": [
    "From this result we can see that the 12 orders from the Young Adult group show strong engagement, likely due to their \n",
    "tech-savviness and busy lifestyles, making online food ordering a convenient option"
   ]
  },
  {
   "cell_type": "code",
   "execution_count": null,
   "id": "10f39608",
   "metadata": {},
   "outputs": [],
   "source": []
  }
 ],
 "metadata": {
  "kernelspec": {
   "display_name": "Python 3 (ipykernel)",
   "language": "python",
   "name": "python3"
  },
  "language_info": {
   "codemirror_mode": {
    "name": "ipython",
    "version": 3
   },
   "file_extension": ".py",
   "mimetype": "text/x-python",
   "name": "python",
   "nbconvert_exporter": "python",
   "pygments_lexer": "ipython3",
   "version": "3.11.3"
  }
 },
 "nbformat": 4,
 "nbformat_minor": 5
}
